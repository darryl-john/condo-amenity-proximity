{
 "cells": [
  {
   "cell_type": "code",
   "execution_count": 49,
   "id": "b4840c02",
   "metadata": {},
   "outputs": [],
   "source": [
    "import os, glob, json, re\n",
    "import pandas as pd"
   ]
  },
  {
   "cell_type": "code",
   "execution_count": 50,
   "id": "57ded308",
   "metadata": {},
   "outputs": [
    {
     "data": {
      "application/vnd.microsoft.datawrangler.viewer.v0+json": {
       "columns": [
        {
         "name": "index",
         "rawType": "object",
         "type": "string"
        },
        {
         "name": "project_name",
         "rawType": "object",
         "type": "unknown"
        },
        {
         "name": "location",
         "rawType": "object",
         "type": "unknown"
        },
        {
         "name": "location_map",
         "rawType": "object",
         "type": "unknown"
        }
       ],
       "ref": "180104f6-9cce-4f33-ba9e-229ec3eaacc9",
       "rows": [
        [
         "count",
         "643",
         "643",
         "643"
        ],
        [
         "unique",
         "642",
         "15",
         "154"
        ],
        [
         "top",
         "Acacia Escalades",
         "Quezon City\n                                                    , Metro Manila",
         "BGC, Taguig, Metro Manila"
        ],
        [
         "freq",
         "2",
         "112",
         "39"
        ]
       ],
       "shape": {
        "columns": 3,
        "rows": 4
       }
      },
      "text/html": [
       "<div>\n",
       "<style scoped>\n",
       "    .dataframe tbody tr th:only-of-type {\n",
       "        vertical-align: middle;\n",
       "    }\n",
       "\n",
       "    .dataframe tbody tr th {\n",
       "        vertical-align: top;\n",
       "    }\n",
       "\n",
       "    .dataframe thead th {\n",
       "        text-align: right;\n",
       "    }\n",
       "</style>\n",
       "<table border=\"1\" class=\"dataframe\">\n",
       "  <thead>\n",
       "    <tr style=\"text-align: right;\">\n",
       "      <th></th>\n",
       "      <th>project_name</th>\n",
       "      <th>location</th>\n",
       "      <th>location_map</th>\n",
       "    </tr>\n",
       "  </thead>\n",
       "  <tbody>\n",
       "    <tr>\n",
       "      <th>count</th>\n",
       "      <td>643</td>\n",
       "      <td>643</td>\n",
       "      <td>643</td>\n",
       "    </tr>\n",
       "    <tr>\n",
       "      <th>unique</th>\n",
       "      <td>642</td>\n",
       "      <td>15</td>\n",
       "      <td>154</td>\n",
       "    </tr>\n",
       "    <tr>\n",
       "      <th>top</th>\n",
       "      <td>Acacia Escalades</td>\n",
       "      <td>Quezon City\\n                                 ...</td>\n",
       "      <td>BGC, Taguig, Metro Manila</td>\n",
       "    </tr>\n",
       "    <tr>\n",
       "      <th>freq</th>\n",
       "      <td>2</td>\n",
       "      <td>112</td>\n",
       "      <td>39</td>\n",
       "    </tr>\n",
       "  </tbody>\n",
       "</table>\n",
       "</div>"
      ],
      "text/plain": [
       "            project_name                                           location  \\\n",
       "count                643                                                643   \n",
       "unique               642                                                 15   \n",
       "top     Acacia Escalades  Quezon City\\n                                 ...   \n",
       "freq                   2                                                112   \n",
       "\n",
       "                     location_map  \n",
       "count                         643  \n",
       "unique                        154  \n",
       "top     BGC, Taguig, Metro Manila  \n",
       "freq                           39  "
      ]
     },
     "execution_count": 50,
     "metadata": {},
     "output_type": "execute_result"
    }
   ],
   "source": [
    "records = []\n",
    "\n",
    "# Append data from all text files in the data_properties directory\n",
    "for filepath in glob.glob(os.path.join(\"\", \"*.txt\")):\n",
    "    with open(filepath, 'r', encoding='utf-8-sig') as f:\n",
    "        for line in f:\n",
    "            records.append(json.loads(line))\n",
    "\n",
    "df = pd.DataFrame(records)\n",
    "df.describe(include='all')"
   ]
  },
  {
   "cell_type": "code",
   "execution_count": 51,
   "id": "47d42d30",
   "metadata": {},
   "outputs": [
    {
     "data": {
      "application/vnd.microsoft.datawrangler.viewer.v0+json": {
       "columns": [
        {
         "name": "index",
         "rawType": "int64",
         "type": "integer"
        },
        {
         "name": "project_name",
         "rawType": "object",
         "type": "string"
        },
        {
         "name": "location",
         "rawType": "object",
         "type": "string"
        },
        {
         "name": "location_map",
         "rawType": "object",
         "type": "string"
        },
        {
         "name": "location_match",
         "rawType": "bool",
         "type": "boolean"
        }
       ],
       "ref": "f8e7ce56-e5df-4e17-b3da-8a3113a865f8",
       "rows": [
        [
         "0",
         "Avida Towers Verte",
         "Taguig, Metro Manila",
         "BGC, Taguig, Metro Manila",
         "True"
        ],
        [
         "1",
         "Two Central",
         "Makati, Metro Manila",
         "Bel-Air, Makati, Metro Manila",
         "True"
        ],
        [
         "2",
         "Avida Towers Prime Taft",
         "Pasay, Metro Manila",
         "Barangay 36, Pasay, Metro Manila",
         "True"
        ],
        [
         "3",
         "Sage Residences",
         "Mandaluyong, Metro Manila",
         "Mauway, Mandaluyong, Metro Manila",
         "True"
        ],
        [
         "4",
         "Avida Towers Turf",
         "Taguig, Metro Manila",
         "BGC, Taguig, Metro Manila",
         "True"
        ],
        [
         "5",
         "The Trion Towers II",
         "Taguig, Metro Manila",
         "BGC, Taguig, Metro Manila",
         "True"
        ],
        [
         "6",
         "Coastal Luxury Residences",
         "Parañaque, Metro Manila",
         "Tambo, Parañaque, Metro Manila",
         "True"
        ],
        [
         "7",
         "Greenbelt Chancellor",
         "Makati, Metro Manila",
         "San Lorenzo, Makati, Metro Manila",
         "True"
        ],
        [
         "8",
         "Kizuna Heights",
         "Pasay, Metro Manila",
         "Malate, Manila, Metro Manila",
         "False"
        ],
        [
         "9",
         "Two Roxas Triangle",
         "Metro Manila",
         "Urdaneta, Makati, Metro Manila",
         "True"
        ],
        [
         "10",
         "Coast Residences",
         "Pasay, Metro Manila",
         "Barangay 76, Pasay, Metro Manila",
         "True"
        ],
        [
         "11",
         "The Velaris Residences",
         "Metro Manila",
         "Manggahan, Pasig, Metro Manila",
         "True"
        ],
        [
         "12",
         "Icon Residences",
         "Taguig, Metro Manila",
         "BGC, Taguig, Metro Manila",
         "True"
        ],
        [
         "13",
         "Allegra Garden Place",
         "Pasig, Metro Manila",
         "Bagong Ilog, Pasig, Metro Manila",
         "True"
        ],
        [
         "14",
         "Alder Residences",
         "Taguig, Metro Manila",
         "San Miguel, Taguig, Metro Manila",
         "True"
        ],
        [
         "15",
         "The Crestmont",
         "Metro Manila",
         "South Triangle, Quezon City, Metro Manila",
         "True"
        ],
        [
         "16",
         "Cameron Residences",
         "Quezon City, Metro Manila",
         "Mariblo, Quezon City, Metro Manila",
         "True"
        ],
        [
         "17",
         "Belize Oasis",
         "Muntinlupa, Metro Manila",
         "Alabang, Muntinlupa, Metro Manila",
         "True"
        ],
        [
         "18",
         "Shang Residences Wack Wack",
         "Mandaluyong, Metro Manila",
         "Addition Hills, Mandaluyong, Metro Manila",
         "True"
        ],
        [
         "19",
         "Valencia Hills",
         "Quezon City, Metro Manila",
         "Valencia, Quezon City, Metro Manila",
         "True"
        ],
        [
         "20",
         "Siena Tower",
         "Pasay, Metro Manila",
         "Marikina, Metro Manila",
         "False"
        ],
        [
         "21",
         "The Capital Towers",
         "Quezon City, Metro Manila",
         "Kalusugan, Quezon City, Metro Manila",
         "True"
        ],
        [
         "22",
         "The Residences at Greenbelt",
         "Makati, Metro Manila",
         "San Lorenzo, Makati, Metro Manila",
         "True"
        ],
        [
         "23",
         "The Residences at Bonifacio Civic Center",
         "Taguig, Metro Manila",
         "BGC, Taguig, Metro Manila",
         "True"
        ],
        [
         "24",
         "110 Benavidez",
         "Makati, Metro Manila",
         "San Lorenzo, Makati, Metro Manila",
         "True"
        ],
        [
         "25",
         "Southkey Place",
         "Muntinlupa, Metro Manila",
         "Alabang, Muntinlupa, Metro Manila",
         "True"
        ],
        [
         "26",
         "Woodsville Crest 3",
         "Parañaque, Metro Manila",
         "Merville, Parañaque, Metro Manila",
         "True"
        ],
        [
         "27",
         "Regent Parkway",
         "Taguig, Metro Manila",
         "BGC, Taguig, Metro Manila",
         "True"
        ],
        [
         "28",
         "Pacific Plaza Tower",
         "Taguig, Metro Manila",
         "BGC, Taguig, Metro Manila",
         "True"
        ],
        [
         "29",
         "Arya Residences Tower 2",
         "Taguig, Metro Manila",
         "BGC, Taguig, Metro Manila",
         "True"
        ],
        [
         "30",
         "Arya Residences Tower 1",
         "Taguig, Metro Manila",
         "BGC, Taguig, Metro Manila",
         "True"
        ],
        [
         "31",
         "The Linear",
         "Makati, Metro Manila",
         "San Antonio, Makati, Metro Manila",
         "True"
        ],
        [
         "32",
         "The Levels",
         "Muntinlupa, Metro Manila",
         "Alabang, Muntinlupa, Metro Manila",
         "True"
        ],
        [
         "33",
         "Studio City",
         "Muntinlupa, Metro Manila",
         "Alabang, Muntinlupa, Metro Manila",
         "True"
        ],
        [
         "34",
         "One Sierra",
         "Mandaluyong, Metro Manila",
         "Highway Hills, Mandaluyong, Metro Manila",
         "True"
        ],
        [
         "35",
         "The Hermosa",
         "Las Piñas, Metro Manila",
         "Pulang Lupa Uno, Las Piñas, Metro Manila",
         "True"
        ],
        [
         "36",
         "Sands Residences",
         "Manila, Metro Manila",
         "Malate, Manila, Metro Manila",
         "True"
        ],
        [
         "37",
         "Mint Residences",
         "Makati, Metro Manila",
         "Urdaneta, Makati, Metro Manila",
         "True"
        ],
        [
         "38",
         "Pine Crest Towers",
         "Quezon City, Metro Manila",
         "Pasong Tamo, Quezon City, Metro Manila",
         "True"
        ],
        [
         "39",
         "Torre Lorenzo Malate",
         "Manila, Metro Manila",
         "Malate, Manila, Metro Manila",
         "True"
        ],
        [
         "40",
         "Torre Lorenzo Loyola",
         "Quezon City, Metro Manila",
         "Loyola Heights, Quezon City, Metro Manila",
         "True"
        ],
        [
         "41",
         "3Torre Lorenzo",
         "Manila, Metro Manila",
         "Malate, Manila, Metro Manila",
         "True"
        ],
        [
         "42",
         "South 2 Residences",
         "Las Piñas, Metro Manila",
         "Almanza Uno, Las Piñas, Metro Manila",
         "True"
        ],
        [
         "43",
         "Acacia Escalades",
         "Pasig, Metro Manila",
         "Manggahan, Pasig, Metro Manila",
         "True"
        ],
        [
         "44",
         "The Radiance Manila Bay – North Tower",
         "Pasay, Metro Manila",
         "Barangay 2, Pasay, Metro Manila",
         "True"
        ],
        [
         "45",
         "The Magnolia residences – Tower A, B, and C",
         "Quezon City, Metro Manila",
         "Kaunlaran, Quezon City, Metro Manila",
         "True"
        ],
        [
         "46",
         "The Magnolia residences – Tower D",
         "Quezon City, Metro Manila",
         "Kaunlaran, Quezon City, Metro Manila",
         "True"
        ],
        [
         "47",
         "The Radiance Manila Bay – South Tower",
         "Pasay, Metro Manila",
         "Barangay 2, Pasay, Metro Manila",
         "True"
        ],
        [
         "48",
         "The Sapphire Bloc – East Tower",
         "Pasig, Metro Manila",
         "San Antonio, Pasig, Metro Manila",
         "True"
        ],
        [
         "49",
         "Acacia Escalades – Building B",
         "Pasig, Metro Manila",
         "Manggahan, Pasig, Metro Manila",
         "True"
        ]
       ],
       "shape": {
        "columns": 4,
        "rows": 643
       }
      },
      "text/html": [
       "<div>\n",
       "<style scoped>\n",
       "    .dataframe tbody tr th:only-of-type {\n",
       "        vertical-align: middle;\n",
       "    }\n",
       "\n",
       "    .dataframe tbody tr th {\n",
       "        vertical-align: top;\n",
       "    }\n",
       "\n",
       "    .dataframe thead th {\n",
       "        text-align: right;\n",
       "    }\n",
       "</style>\n",
       "<table border=\"1\" class=\"dataframe\">\n",
       "  <thead>\n",
       "    <tr style=\"text-align: right;\">\n",
       "      <th></th>\n",
       "      <th>project_name</th>\n",
       "      <th>location</th>\n",
       "      <th>location_map</th>\n",
       "      <th>location_match</th>\n",
       "    </tr>\n",
       "  </thead>\n",
       "  <tbody>\n",
       "    <tr>\n",
       "      <th>0</th>\n",
       "      <td>Avida Towers Verte</td>\n",
       "      <td>Taguig, Metro Manila</td>\n",
       "      <td>BGC, Taguig, Metro Manila</td>\n",
       "      <td>True</td>\n",
       "    </tr>\n",
       "    <tr>\n",
       "      <th>1</th>\n",
       "      <td>Two Central</td>\n",
       "      <td>Makati, Metro Manila</td>\n",
       "      <td>Bel-Air, Makati, Metro Manila</td>\n",
       "      <td>True</td>\n",
       "    </tr>\n",
       "    <tr>\n",
       "      <th>2</th>\n",
       "      <td>Avida Towers Prime Taft</td>\n",
       "      <td>Pasay, Metro Manila</td>\n",
       "      <td>Barangay 36, Pasay, Metro Manila</td>\n",
       "      <td>True</td>\n",
       "    </tr>\n",
       "    <tr>\n",
       "      <th>3</th>\n",
       "      <td>Sage Residences</td>\n",
       "      <td>Mandaluyong, Metro Manila</td>\n",
       "      <td>Mauway, Mandaluyong, Metro Manila</td>\n",
       "      <td>True</td>\n",
       "    </tr>\n",
       "    <tr>\n",
       "      <th>4</th>\n",
       "      <td>Avida Towers Turf</td>\n",
       "      <td>Taguig, Metro Manila</td>\n",
       "      <td>BGC, Taguig, Metro Manila</td>\n",
       "      <td>True</td>\n",
       "    </tr>\n",
       "    <tr>\n",
       "      <th>...</th>\n",
       "      <td>...</td>\n",
       "      <td>...</td>\n",
       "      <td>...</td>\n",
       "      <td>...</td>\n",
       "    </tr>\n",
       "    <tr>\n",
       "      <th>638</th>\n",
       "      <td>The Trion Towers III</td>\n",
       "      <td>Taguig, Metro Manila</td>\n",
       "      <td>BGC, Taguig, Metro Manila</td>\n",
       "      <td>True</td>\n",
       "    </tr>\n",
       "    <tr>\n",
       "      <th>639</th>\n",
       "      <td>The Radiance Manila Bay</td>\n",
       "      <td>Pasay, Metro Manila</td>\n",
       "      <td>Barangay 3, Pasay, Metro Manila</td>\n",
       "      <td>True</td>\n",
       "    </tr>\n",
       "    <tr>\n",
       "      <th>640</th>\n",
       "      <td>The Magnolia Residences</td>\n",
       "      <td>Quezon City, Metro Manila</td>\n",
       "      <td>Kaunlaran, Quezon City, Metro Manila</td>\n",
       "      <td>True</td>\n",
       "    </tr>\n",
       "    <tr>\n",
       "      <th>641</th>\n",
       "      <td>The Sapphire Bloc  – South Tower</td>\n",
       "      <td>Pasig, Metro Manila</td>\n",
       "      <td>San Antonio, Pasig, Metro Manila</td>\n",
       "      <td>True</td>\n",
       "    </tr>\n",
       "    <tr>\n",
       "      <th>642</th>\n",
       "      <td>Gateway Garden Heights</td>\n",
       "      <td>Mandaluyong, Metro Manila</td>\n",
       "      <td>Barangka Ilaya, Mandaluyong, Metro Manila</td>\n",
       "      <td>True</td>\n",
       "    </tr>\n",
       "  </tbody>\n",
       "</table>\n",
       "<p>643 rows × 4 columns</p>\n",
       "</div>"
      ],
      "text/plain": [
       "                         project_name                   location  \\\n",
       "0                  Avida Towers Verte       Taguig, Metro Manila   \n",
       "1                         Two Central       Makati, Metro Manila   \n",
       "2             Avida Towers Prime Taft        Pasay, Metro Manila   \n",
       "3                     Sage Residences  Mandaluyong, Metro Manila   \n",
       "4                   Avida Towers Turf       Taguig, Metro Manila   \n",
       "..                                ...                        ...   \n",
       "638              The Trion Towers III       Taguig, Metro Manila   \n",
       "639           The Radiance Manila Bay        Pasay, Metro Manila   \n",
       "640           The Magnolia Residences  Quezon City, Metro Manila   \n",
       "641  The Sapphire Bloc  – South Tower        Pasig, Metro Manila   \n",
       "642            Gateway Garden Heights  Mandaluyong, Metro Manila   \n",
       "\n",
       "                                  location_map  location_match  \n",
       "0                    BGC, Taguig, Metro Manila            True  \n",
       "1                Bel-Air, Makati, Metro Manila            True  \n",
       "2             Barangay 36, Pasay, Metro Manila            True  \n",
       "3            Mauway, Mandaluyong, Metro Manila            True  \n",
       "4                    BGC, Taguig, Metro Manila            True  \n",
       "..                                         ...             ...  \n",
       "638                  BGC, Taguig, Metro Manila            True  \n",
       "639            Barangay 3, Pasay, Metro Manila            True  \n",
       "640       Kaunlaran, Quezon City, Metro Manila            True  \n",
       "641           San Antonio, Pasig, Metro Manila            True  \n",
       "642  Barangka Ilaya, Mandaluyong, Metro Manila            True  \n",
       "\n",
       "[643 rows x 4 columns]"
      ]
     },
     "execution_count": 51,
     "metadata": {},
     "output_type": "execute_result"
    }
   ],
   "source": [
    "# apply string cleaning and corrections\n",
    "df['location'] = df['location'].str.replace(r'\\s{2,}', ' ', regex=True).str.replace(' , ', ', ').str.strip()\n",
    "\n",
    "# check if the string in 'location_map' contains the corresponding 'location' string, case-insensitive\n",
    "df['location_match'] = df.apply(lambda row: str(row['location']).lower() in str(row['location_map']).lower(), axis=1)\n",
    "df"
   ]
  },
  {
   "cell_type": "code",
   "execution_count": 52,
   "id": "e5b31aff",
   "metadata": {},
   "outputs": [],
   "source": [
    "# Save the DataFrame to a CSV file\n",
    "df.to_csv(\"data-properties-for-correction.csv\", index=False, encoding='utf-8-sig')"
   ]
  }
 ],
 "metadata": {
  "kernelspec": {
   "display_name": ".venv",
   "language": "python",
   "name": "python3"
  },
  "language_info": {
   "codemirror_mode": {
    "name": "ipython",
    "version": 3
   },
   "file_extension": ".py",
   "mimetype": "text/x-python",
   "name": "python",
   "nbconvert_exporter": "python",
   "pygments_lexer": "ipython3",
   "version": "3.13.7"
  }
 },
 "nbformat": 4,
 "nbformat_minor": 5
}
