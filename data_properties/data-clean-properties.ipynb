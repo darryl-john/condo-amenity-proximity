{
 "cells": [
  {
   "cell_type": "code",
   "execution_count": 44,
   "id": "b4840c02",
   "metadata": {},
   "outputs": [],
   "source": [
    "import os, glob, json, re\n",
    "import pandas as pd"
   ]
  },
  {
   "cell_type": "code",
   "execution_count": 45,
   "id": "57ded308",
   "metadata": {},
   "outputs": [
    {
     "data": {
      "application/vnd.microsoft.datawrangler.viewer.v0+json": {
       "columns": [
        {
         "name": "index",
         "rawType": "object",
         "type": "string"
        },
        {
         "name": "project_name",
         "rawType": "object",
         "type": "unknown"
        },
        {
         "name": "location",
         "rawType": "object",
         "type": "unknown"
        },
        {
         "name": "location_map",
         "rawType": "object",
         "type": "unknown"
        }
       ],
       "ref": "919afce1-6bfa-49b8-a7e2-bf22e6ee6264",
       "rows": [
        [
         "count",
         "643",
         "643",
         "643"
        ],
        [
         "unique",
         "642",
         "15",
         "154"
        ],
        [
         "top",
         "Acacia Escalades",
         "Quezon City\n                                                    , Metro Manila",
         "BGC, Taguig, Metro Manila"
        ],
        [
         "freq",
         "2",
         "112",
         "39"
        ]
       ],
       "shape": {
        "columns": 3,
        "rows": 4
       }
      },
      "text/html": [
       "<div>\n",
       "<style scoped>\n",
       "    .dataframe tbody tr th:only-of-type {\n",
       "        vertical-align: middle;\n",
       "    }\n",
       "\n",
       "    .dataframe tbody tr th {\n",
       "        vertical-align: top;\n",
       "    }\n",
       "\n",
       "    .dataframe thead th {\n",
       "        text-align: right;\n",
       "    }\n",
       "</style>\n",
       "<table border=\"1\" class=\"dataframe\">\n",
       "  <thead>\n",
       "    <tr style=\"text-align: right;\">\n",
       "      <th></th>\n",
       "      <th>project_name</th>\n",
       "      <th>location</th>\n",
       "      <th>location_map</th>\n",
       "    </tr>\n",
       "  </thead>\n",
       "  <tbody>\n",
       "    <tr>\n",
       "      <th>count</th>\n",
       "      <td>643</td>\n",
       "      <td>643</td>\n",
       "      <td>643</td>\n",
       "    </tr>\n",
       "    <tr>\n",
       "      <th>unique</th>\n",
       "      <td>642</td>\n",
       "      <td>15</td>\n",
       "      <td>154</td>\n",
       "    </tr>\n",
       "    <tr>\n",
       "      <th>top</th>\n",
       "      <td>Acacia Escalades</td>\n",
       "      <td>Quezon City\\n                                 ...</td>\n",
       "      <td>BGC, Taguig, Metro Manila</td>\n",
       "    </tr>\n",
       "    <tr>\n",
       "      <th>freq</th>\n",
       "      <td>2</td>\n",
       "      <td>112</td>\n",
       "      <td>39</td>\n",
       "    </tr>\n",
       "  </tbody>\n",
       "</table>\n",
       "</div>"
      ],
      "text/plain": [
       "            project_name                                           location  \\\n",
       "count                643                                                643   \n",
       "unique               642                                                 15   \n",
       "top     Acacia Escalades  Quezon City\\n                                 ...   \n",
       "freq                   2                                                112   \n",
       "\n",
       "                     location_map  \n",
       "count                         643  \n",
       "unique                        154  \n",
       "top     BGC, Taguig, Metro Manila  \n",
       "freq                           39  "
      ]
     },
     "execution_count": 45,
     "metadata": {},
     "output_type": "execute_result"
    }
   ],
   "source": [
    "records = []\n",
    "\n",
    "# Append data from all text files in the data_properties directory\n",
    "for filepath in glob.glob(os.path.join(\"\", \"*.txt\")):\n",
    "    with open(filepath, 'r', encoding='utf-8-sig') as f:\n",
    "        for line in f:\n",
    "            records.append(json.loads(line))\n",
    "\n",
    "df = pd.DataFrame(records)\n",
    "df.describe(include='all')"
   ]
  },
  {
   "cell_type": "code",
   "execution_count": 46,
   "id": "8a25558b",
   "metadata": {},
   "outputs": [
    {
     "data": {
      "application/vnd.microsoft.datawrangler.viewer.v0+json": {
       "columns": [
        {
         "name": "index",
         "rawType": "int64",
         "type": "integer"
        },
        {
         "name": "project_name",
         "rawType": "object",
         "type": "string"
        },
        {
         "name": "location",
         "rawType": "object",
         "type": "string"
        }
       ],
       "ref": "f38687a8-fc29-453f-a62d-6263f01cb93f",
       "rows": [
        [
         "0",
         "The Calinea Tower",
         "Grace Park East, Caloocan"
        ],
        [
         "21",
         "Torre De Florencia",
         "Grace Park West, Caloocan"
        ],
        [
         "34",
         "Hacienda Balai",
         "Kaligayahan, Quezon City"
        ],
        [
         "35",
         "Elevé Homes Camarin",
         "Camarin, Caloocan"
        ],
        [
         "39",
         "Torre De Florencia",
         "Monumento, Caloocan"
        ],
        [
         "53",
         "Aguada Residences",
         "Amparo, Caloocan"
        ],
        [
         "199",
         "Heritage Homes Marilao",
         "Bagong Silang, Caloocan"
        ],
        [
         "203",
         "Hacienda Balai",
         "Novaliches, Quezon City"
        ],
        [
         "204",
         "Ohana Place",
         "Las Piñas, Metro Manila"
        ],
        [
         "205",
         "Pacific Coast Residences",
         "B.F. International Village, Las Piñas"
        ],
        [
         "206",
         "South Residences",
         "Las Piñas, Metro Manila"
        ],
        [
         "207",
         "Sonora Garden Residences",
         "Las Piñas, Metro Manila"
        ],
        [
         "209",
         "Paseo Verde at Real",
         "Pulang Lupa Uno, Las Piñas"
        ],
        [
         "210",
         "South 2 Residences",
         "Las Piñas, Metro Manila"
        ],
        [
         "219",
         "Ohana Place",
         "Almanza Uno, Las Piñas"
        ],
        [
         "220",
         "South Residences",
         "Talon Dos, Las Piñas"
        ],
        [
         "221",
         "Viento at Cerca",
         "Zapote, Las Piñas"
        ],
        [
         "228",
         "South Residences",
         "Almanza Uno, Las Piñas"
        ],
        [
         "229",
         "Amaia Steps Alabang",
         "Las Piñas, Metro Manila"
        ],
        [
         "246",
         "Maricielo Villas",
         "Pulang Lupa Uno, Las Piñas"
        ],
        [
         "249",
         "South 2 Residences",
         "Almanza Uno, Las Piñas"
        ],
        [
         "250",
         "Ohana Place",
         "Parañaque, Metro Manila"
        ],
        [
         "251",
         "Maricielo Villas",
         "Las Piñas, Metro Manila"
        ],
        [
         "252",
         "Viento at Cerca",
         "Almanza Uno, Las Piñas"
        ],
        [
         "266",
         "Torre Lorenzo Sur",
         "Zapote, Las Piñas"
        ],
        [
         "268",
         "South Residences",
         "Almanza Dos, Las Piñas"
        ],
        [
         "274",
         "Alea Residences",
         "Las Piñas, Metro Manila"
        ],
        [
         "295",
         "Ayala Southvale Sonera",
         "Almanza Dos, Las Piñas"
        ],
        [
         "309",
         "Alea Residences",
         "Zapote, Las Piñas"
        ],
        [
         "318",
         "Paseo Verde",
         "Pulang Lupa Uno, Las Piñas"
        ],
        [
         "324",
         "Park One",
         "Zapote, Las Piñas"
        ],
        [
         "367",
         "Twin Residences",
         "Talon Tres, Las Piñas"
        ],
        [
         "371",
         "Twin Residences",
         "Talon Uno, Las Piñas"
        ],
        [
         "398",
         "Viento at Cerca",
         "Almanza Dos, Las Piñas"
        ],
        [
         "404",
         "Amaia Steps Alabang",
         "Alabang, Muntinlupa"
        ],
        [
         "406",
         "PHINMA Metrotowne Las Piñas",
         "Talon Singko, Las Piñas"
        ],
        [
         "408",
         "Two Premier",
         "Almanza Uno, Las Piñas"
        ],
        [
         "428",
         "Shore 3 Residences",
         "MOA, Pasay"
        ],
        [
         "433",
         "Sonora Garden Residences",
         "Talon Tres, Las Piñas"
        ],
        [
         "452",
         "Nuveo at Cerca",
         "Almanza Uno, Las Piñas"
        ],
        [
         "472",
         "Nuveo at Cerca",
         "Almanza Dos, Las Piñas"
        ],
        [
         "490",
         "Almanza Metropolis Condominium",
         "Almanza Uno, Las Piñas"
        ],
        [
         "495",
         "The Hermosa",
         "Las Piñas, Metro Manila"
        ],
        [
         "923",
         "One Premier",
         "Almanza Uno, Las Piñas"
        ],
        [
         "1085",
         "Alabang West Village",
         "Almanza Dos, Las Piñas"
        ],
        [
         "1369",
         "Amaia Steps Alabang",
         "Almanza Uno, Las Piñas"
        ],
        [
         "1387",
         "Ananda Square",
         "Zapote, Las Piñas"
        ],
        [
         "1416",
         "One Legazpi Park",
         "Legazpi Village, Makati"
        ],
        [
         "1418",
         "EDADES TOWER AND GARDEN VILLAS",
         "Makati, Metro Manila"
        ],
        [
         "1425",
         "Manansala Rockwell",
         "Bangkal, Makati"
        ]
       ],
       "shape": {
        "columns": 2,
        "rows": 1015
       }
      },
      "text/html": [
       "<div>\n",
       "<style scoped>\n",
       "    .dataframe tbody tr th:only-of-type {\n",
       "        vertical-align: middle;\n",
       "    }\n",
       "\n",
       "    .dataframe tbody tr th {\n",
       "        vertical-align: top;\n",
       "    }\n",
       "\n",
       "    .dataframe thead th {\n",
       "        text-align: right;\n",
       "    }\n",
       "</style>\n",
       "<table border=\"1\" class=\"dataframe\">\n",
       "  <thead>\n",
       "    <tr style=\"text-align: right;\">\n",
       "      <th></th>\n",
       "      <th>project_name</th>\n",
       "      <th>location</th>\n",
       "    </tr>\n",
       "  </thead>\n",
       "  <tbody>\n",
       "    <tr>\n",
       "      <th>0</th>\n",
       "      <td>The Calinea Tower</td>\n",
       "      <td>Grace Park East, Caloocan</td>\n",
       "    </tr>\n",
       "    <tr>\n",
       "      <th>21</th>\n",
       "      <td>Torre De Florencia</td>\n",
       "      <td>Grace Park West, Caloocan</td>\n",
       "    </tr>\n",
       "    <tr>\n",
       "      <th>34</th>\n",
       "      <td>Hacienda Balai</td>\n",
       "      <td>Kaligayahan, Quezon City</td>\n",
       "    </tr>\n",
       "    <tr>\n",
       "      <th>35</th>\n",
       "      <td>Elevé Homes Camarin</td>\n",
       "      <td>Camarin, Caloocan</td>\n",
       "    </tr>\n",
       "    <tr>\n",
       "      <th>39</th>\n",
       "      <td>Torre De Florencia</td>\n",
       "      <td>Monumento, Caloocan</td>\n",
       "    </tr>\n",
       "    <tr>\n",
       "      <th>...</th>\n",
       "      <td>...</td>\n",
       "      <td>...</td>\n",
       "    </tr>\n",
       "    <tr>\n",
       "      <th>15577</th>\n",
       "      <td>Viceroy</td>\n",
       "      <td>Pinagsama, Taguig</td>\n",
       "    </tr>\n",
       "    <tr>\n",
       "      <th>15580</th>\n",
       "      <td>Cypress Towers</td>\n",
       "      <td>Ususan, Taguig</td>\n",
       "    </tr>\n",
       "    <tr>\n",
       "      <th>15582</th>\n",
       "      <td>Alta Spatial</td>\n",
       "      <td>Karuhatan, Valenzuela</td>\n",
       "    </tr>\n",
       "    <tr>\n",
       "      <th>15585</th>\n",
       "      <td>Isabelle de Valenzuela</td>\n",
       "      <td>Marulas, Valenzuela</td>\n",
       "    </tr>\n",
       "    <tr>\n",
       "      <th>15592</th>\n",
       "      <td>Isabelle de Valenzuela</td>\n",
       "      <td>Isla, Valenzuela</td>\n",
       "    </tr>\n",
       "  </tbody>\n",
       "</table>\n",
       "<p>1015 rows × 2 columns</p>\n",
       "</div>"
      ],
      "text/plain": [
       "                 project_name                   location\n",
       "0           The Calinea Tower  Grace Park East, Caloocan\n",
       "21         Torre De Florencia  Grace Park West, Caloocan\n",
       "34             Hacienda Balai   Kaligayahan, Quezon City\n",
       "35        Elevé Homes Camarin          Camarin, Caloocan\n",
       "39         Torre De Florencia        Monumento, Caloocan\n",
       "...                       ...                        ...\n",
       "15577                 Viceroy          Pinagsama, Taguig\n",
       "15580          Cypress Towers             Ususan, Taguig\n",
       "15582            Alta Spatial      Karuhatan, Valenzuela\n",
       "15585  Isabelle de Valenzuela        Marulas, Valenzuela\n",
       "15592  Isabelle de Valenzuela           Isla, Valenzuela\n",
       "\n",
       "[1015 rows x 2 columns]"
      ]
     },
     "execution_count": 46,
     "metadata": {},
     "output_type": "execute_result"
    }
   ],
   "source": [
    "# read csv file from another directory\n",
    "df_listings = pd.read_csv(\"D:/HEDONIC-MODEL/data_listings/data-listings.csv\", dtype=str)\n",
    "\n",
    "# subset the DataFrame to include only relevant columns\n",
    "df_listings = df_listings[['project_name', 'location']].dropna().drop_duplicates()\n",
    "\n",
    "df_listings"
   ]
  },
  {
   "cell_type": "code",
   "execution_count": 47,
   "id": "35386052",
   "metadata": {},
   "outputs": [
    {
     "data": {
      "application/vnd.microsoft.datawrangler.viewer.v0+json": {
       "columns": [
        {
         "name": "index",
         "rawType": "int64",
         "type": "integer"
        },
        {
         "name": "project_name",
         "rawType": "object",
         "type": "string"
        },
        {
         "name": "location_x",
         "rawType": "object",
         "type": "unknown"
        },
        {
         "name": "location_map",
         "rawType": "object",
         "type": "unknown"
        },
        {
         "name": "location_y",
         "rawType": "object",
         "type": "unknown"
        }
       ],
       "ref": "9d89caae-1bbc-420d-9870-4d9d1c136673",
       "rows": [
        [
         "0",
         "100 West",
         null,
         null,
         "Pio Del Pilar, Makati"
        ],
        [
         "1",
         "100 West Makati",
         "Makati\n                                                    , Metro Manila",
         "Pio Del Pilar, Makati, Metro Manila",
         null
        ],
        [
         "2",
         "1001 Parkway Residences",
         null,
         null,
         "Muntinlupa, Metro Manila"
        ],
        [
         "3",
         "101 Newport BLVD",
         "Manila\n                                                    , Metro Manila",
         "Barangay 183, Pasay, Metro Manila",
         null
        ],
        [
         "4",
         "101 Xavierville",
         null,
         null,
         "Loyola Heights, Quezon City"
        ],
        [
         "5",
         "110 Benavidez",
         "Makati\n                                                    , Metro Manila",
         "San Lorenzo, Makati, Metro Manila",
         null
        ],
        [
         "6",
         "115 Upper Mckinley",
         "Taguig\n                                                    , Metro Manila",
         "Forbes Park North, Makati, Metro Manila",
         "South Forbes, Makati"
        ],
        [
         "7",
         "12 Luxury Flats",
         "San Juan\n                                                    , Metro Manila",
         "Little Baguio, San Juan, Metro Manila",
         null
        ],
        [
         "8",
         "1322 Golden Empire Tower",
         "Manila\n                                                    , Metro Manila",
         "Ermita, Manila, Metro Manila",
         "Ermita, Manila"
        ],
        [
         "9",
         "150 Newport BLVD",
         "Pasay\n                                                    , Metro Manila",
         "Barangay 183, Pasay, Metro Manila",
         null
        ],
        [
         "10",
         "205 Santolan by Rockwell",
         null,
         null,
         "Valencia, Quezon City"
        ],
        [
         "11",
         "2Torre Lorenzo",
         null,
         null,
         "Malate, Manila"
        ],
        [
         "12",
         "329 Armstrong",
         "Parañaque\n                                                    , Metro Manila",
         "Barangay 76, Pasay, Metro Manila",
         null
        ],
        [
         "13",
         "3Torre Lorenzo",
         "Manila\n                                                    , Metro Manila",
         "Malate, Manila, Metro Manila",
         "Malate, Manila"
        ],
        [
         "14",
         "53 Benitez",
         null,
         null,
         "Cubao, Quezon City"
        ],
        [
         "15",
         "53 Benitez",
         null,
         null,
         "New Manila, Quezon City"
        ],
        [
         "16",
         "53 Benitez",
         null,
         null,
         "Mariana, Quezon City"
        ],
        [
         "17",
         "53 Benitez",
         null,
         null,
         "Horseshoe, Quezon City"
        ],
        [
         "18",
         "53 Benitez",
         null,
         null,
         "Kaunlaran, Quezon City"
        ],
        [
         "19",
         "55 Kalayaan Suites",
         null,
         null,
         "Quezon Avenue, Quezon City"
        ],
        [
         "20",
         "8 ADRIATICO",
         "Manila\n                                                    , Metro Manila",
         "Malate, Manila, Metro Manila",
         "Malate, Manila"
        ],
        [
         "21",
         "8 ADRIATICO",
         "Manila\n                                                    , Metro Manila",
         "Malate, Manila, Metro Manila",
         "Ermita, Manila"
        ],
        [
         "22",
         "8 Benitez Suites",
         null,
         null,
         "Horseshoe, Quezon City"
        ],
        [
         "23",
         "8 Benitez Suites",
         null,
         null,
         "Kaunlaran, Quezon City"
        ],
        [
         "24",
         "8 Forbestown Centre",
         "Taguig\n                                                    , Metro Manila",
         "BGC, Taguig, Metro Manila",
         null
        ],
        [
         "25",
         "8 Forbestown Road",
         null,
         null,
         "Fort Bonifacio, Taguig"
        ],
        [
         "26",
         "8 Wack Wack Road",
         null,
         null,
         "Wack-Wack Greenhills, Mandaluyong"
        ],
        [
         "27",
         "81 Newport BLVD",
         "Pasay\n                                                    , Metro Manila",
         "Barangay 183, Pasay, Metro Manila",
         "Newport City, Pasay"
        ],
        [
         "28",
         "81 Newport Boulevard",
         null,
         null,
         "Newport City, Pasay"
        ],
        [
         "29",
         "81 Xavier Residences",
         null,
         null,
         "Greenhills, San Juan"
        ],
        [
         "30",
         "878 España",
         null,
         null,
         "Sampaloc, Manila"
        ],
        [
         "31",
         "ADB Avenue Tower",
         "Pasig\n                                                    , Metro Manila",
         "Bagong Ilog, Pasig, Metro Manila",
         null
        ],
        [
         "32",
         "ADRIATICO RESIDENCES",
         "Manila\n                                                    , Metro Manila",
         "Quiapo, Manila, Metro Manila",
         null
        ],
        [
         "33",
         "ALPHA SALCEDO",
         "Makati\n                                                    , Metro Manila",
         "Bel-Air, Makati, Metro Manila",
         "Bel-Air, Makati"
        ],
        [
         "34",
         "AMA TOWER RESIDENCES",
         "Mandaluyong\n                                                    , Metro Manila",
         "Wack-Wack Greenhills, Mandaluyong, Metro Manila",
         null
        ],
        [
         "35",
         "AMAIA SKIES AVENIDA",
         "Manila\n                                                    , Metro Manila",
         "Quiapo, Manila, Metro Manila",
         "Santa Cruz, Manila"
        ],
        [
         "36",
         "AMAIA STEPS SUCAT",
         "Parañaque\n                                                    , Metro Manila",
         "Barangay 76, Pasay, Metro Manila",
         "Baclaran, Parañaque"
        ],
        [
         "37",
         "AMAIA STEPS SUCAT",
         "Parañaque\n                                                    , Metro Manila",
         "Barangay 76, Pasay, Metro Manila",
         "San Antonio, Parañaque"
        ],
        [
         "38",
         "ANUVA CONDO",
         "Muntinlupa\n                                                    , Metro Manila",
         "Alabang, Muntinlupa, Metro Manila",
         null
        ],
        [
         "39",
         "ASIA Enclaves Alabang",
         "Muntinlupa\n                                                    , Metro Manila",
         "Alabang, Muntinlupa, Metro Manila",
         "Alabang, Muntinlupa"
        ],
        [
         "40",
         "AURORA GARDENS",
         "Mandaluyong\n                                                    , Metro Manila",
         "Addition Hills, Mandaluyong, Metro Manila",
         null
        ],
        [
         "41",
         "Acacia Escalades",
         "Pasig\n                                                    , Metro Manila",
         "Manggahan, Pasig, Metro Manila",
         null
        ],
        [
         "42",
         "Acacia Escalades",
         "Pasig\n                                                    , Metro Manila",
         "Manggahan, Pasig, Metro Manila",
         null
        ],
        [
         "43",
         "Acacia Escalades – Building B",
         "Pasig\n                                                    , Metro Manila",
         "Manggahan, Pasig, Metro Manila",
         null
        ],
        [
         "44",
         "Acqua Living Stone",
         "Mandaluyong\n                                                    , Metro Manila",
         "Hulo, Mandaluyong, Metro Manila",
         null
        ],
        [
         "45",
         "Acqua Private Residences",
         "Mandaluyong\n                                                    , Metro Manila",
         "Hulo, Mandaluyong, Metro Manila",
         "Hulo, Mandaluyong"
        ],
        [
         "46",
         "Acqua Private Residences",
         "Mandaluyong\n                                                    , Metro Manila",
         "Hulo, Mandaluyong, Metro Manila",
         "Mandaluyong, Metro Manila"
        ],
        [
         "47",
         "Acqua Private Residences",
         "Mandaluyong\n                                                    , Metro Manila",
         "Hulo, Mandaluyong, Metro Manila",
         "Hagdang Bato Libis, Mandaluyong"
        ],
        [
         "48",
         "Activa Flex",
         "Quezon City\n                                                    , Metro Manila",
         "E. Rodriguez, Quezon City, Metro Manila",
         null
        ],
        [
         "49",
         "Admiral Baysuites",
         null,
         null,
         "Malate, Manila"
        ]
       ],
       "shape": {
        "columns": 4,
        "rows": 1292
       }
      },
      "text/html": [
       "<div>\n",
       "<style scoped>\n",
       "    .dataframe tbody tr th:only-of-type {\n",
       "        vertical-align: middle;\n",
       "    }\n",
       "\n",
       "    .dataframe tbody tr th {\n",
       "        vertical-align: top;\n",
       "    }\n",
       "\n",
       "    .dataframe thead th {\n",
       "        text-align: right;\n",
       "    }\n",
       "</style>\n",
       "<table border=\"1\" class=\"dataframe\">\n",
       "  <thead>\n",
       "    <tr style=\"text-align: right;\">\n",
       "      <th></th>\n",
       "      <th>project_name</th>\n",
       "      <th>location_x</th>\n",
       "      <th>location_map</th>\n",
       "      <th>location_y</th>\n",
       "    </tr>\n",
       "  </thead>\n",
       "  <tbody>\n",
       "    <tr>\n",
       "      <th>0</th>\n",
       "      <td>100 West</td>\n",
       "      <td>NaN</td>\n",
       "      <td>NaN</td>\n",
       "      <td>Pio Del Pilar, Makati</td>\n",
       "    </tr>\n",
       "    <tr>\n",
       "      <th>1</th>\n",
       "      <td>100 West Makati</td>\n",
       "      <td>Makati\\n                                      ...</td>\n",
       "      <td>Pio Del Pilar, Makati, Metro Manila</td>\n",
       "      <td>NaN</td>\n",
       "    </tr>\n",
       "    <tr>\n",
       "      <th>2</th>\n",
       "      <td>1001 Parkway Residences</td>\n",
       "      <td>NaN</td>\n",
       "      <td>NaN</td>\n",
       "      <td>Muntinlupa, Metro Manila</td>\n",
       "    </tr>\n",
       "    <tr>\n",
       "      <th>3</th>\n",
       "      <td>101 Newport BLVD</td>\n",
       "      <td>Manila\\n                                      ...</td>\n",
       "      <td>Barangay 183, Pasay, Metro Manila</td>\n",
       "      <td>NaN</td>\n",
       "    </tr>\n",
       "    <tr>\n",
       "      <th>4</th>\n",
       "      <td>101 Xavierville</td>\n",
       "      <td>NaN</td>\n",
       "      <td>NaN</td>\n",
       "      <td>Loyola Heights, Quezon City</td>\n",
       "    </tr>\n",
       "    <tr>\n",
       "      <th>...</th>\n",
       "      <td>...</td>\n",
       "      <td>...</td>\n",
       "      <td>...</td>\n",
       "      <td>...</td>\n",
       "    </tr>\n",
       "    <tr>\n",
       "      <th>1287</th>\n",
       "      <td>dakotaresidences</td>\n",
       "      <td>Metro Manila</td>\n",
       "      <td>Tugatog, Malabon, Metro Manila</td>\n",
       "      <td>Tugatog, Malabon</td>\n",
       "    </tr>\n",
       "    <tr>\n",
       "      <th>1288</th>\n",
       "      <td>mckinley hill garden villas</td>\n",
       "      <td>Taguig\\n                                      ...</td>\n",
       "      <td>Bagong Tanyag, Taguig, Metro Manila</td>\n",
       "      <td>NaN</td>\n",
       "    </tr>\n",
       "    <tr>\n",
       "      <th>1289</th>\n",
       "      <td>oriental gardens makati</td>\n",
       "      <td>Makati\\n                                      ...</td>\n",
       "      <td>Bangkal, Makati, Metro Manila</td>\n",
       "      <td>NaN</td>\n",
       "    </tr>\n",
       "    <tr>\n",
       "      <th>1290</th>\n",
       "      <td>symfoni kamias</td>\n",
       "      <td>Quezon City\\n                                 ...</td>\n",
       "      <td>Ramon Magsaysay, Quezon City, Metro Manila</td>\n",
       "      <td>East Kamias, Quezon City</td>\n",
       "    </tr>\n",
       "    <tr>\n",
       "      <th>1291</th>\n",
       "      <td>trump tower</td>\n",
       "      <td>Makati\\n                                      ...</td>\n",
       "      <td>Metro Manila, Makati</td>\n",
       "      <td>NaN</td>\n",
       "    </tr>\n",
       "  </tbody>\n",
       "</table>\n",
       "<p>1292 rows × 4 columns</p>\n",
       "</div>"
      ],
      "text/plain": [
       "                     project_name  \\\n",
       "0                        100 West   \n",
       "1                 100 West Makati   \n",
       "2         1001 Parkway Residences   \n",
       "3                101 Newport BLVD   \n",
       "4                 101 Xavierville   \n",
       "...                           ...   \n",
       "1287             dakotaresidences   \n",
       "1288  mckinley hill garden villas   \n",
       "1289      oriental gardens makati   \n",
       "1290               symfoni kamias   \n",
       "1291                  trump tower   \n",
       "\n",
       "                                             location_x  \\\n",
       "0                                                   NaN   \n",
       "1     Makati\\n                                      ...   \n",
       "2                                                   NaN   \n",
       "3     Manila\\n                                      ...   \n",
       "4                                                   NaN   \n",
       "...                                                 ...   \n",
       "1287                                       Metro Manila   \n",
       "1288  Taguig\\n                                      ...   \n",
       "1289  Makati\\n                                      ...   \n",
       "1290  Quezon City\\n                                 ...   \n",
       "1291  Makati\\n                                      ...   \n",
       "\n",
       "                                    location_map                   location_y  \n",
       "0                                            NaN        Pio Del Pilar, Makati  \n",
       "1            Pio Del Pilar, Makati, Metro Manila                          NaN  \n",
       "2                                            NaN     Muntinlupa, Metro Manila  \n",
       "3              Barangay 183, Pasay, Metro Manila                          NaN  \n",
       "4                                            NaN  Loyola Heights, Quezon City  \n",
       "...                                          ...                          ...  \n",
       "1287              Tugatog, Malabon, Metro Manila             Tugatog, Malabon  \n",
       "1288         Bagong Tanyag, Taguig, Metro Manila                          NaN  \n",
       "1289               Bangkal, Makati, Metro Manila                          NaN  \n",
       "1290  Ramon Magsaysay, Quezon City, Metro Manila     East Kamias, Quezon City  \n",
       "1291                        Metro Manila, Makati                          NaN  \n",
       "\n",
       "[1292 rows x 4 columns]"
      ]
     },
     "execution_count": 47,
     "metadata": {},
     "output_type": "execute_result"
    }
   ],
   "source": [
    "# merge df and df_listings using project_name, add new rows for all missing from df\n",
    "df_merged = df.merge(df_listings, on='project_name', how='outer')\n",
    "df_merged\n"
   ]
  },
  {
   "cell_type": "code",
   "execution_count": 48,
   "id": "47d42d30",
   "metadata": {},
   "outputs": [
    {
     "data": {
      "application/vnd.microsoft.datawrangler.viewer.v0+json": {
       "columns": [
        {
         "name": "index",
         "rawType": "int64",
         "type": "integer"
        },
        {
         "name": "project_name",
         "rawType": "object",
         "type": "string"
        },
        {
         "name": "location_x",
         "rawType": "object",
         "type": "unknown"
        },
        {
         "name": "location_map",
         "rawType": "object",
         "type": "unknown"
        },
        {
         "name": "location_y",
         "rawType": "object",
         "type": "unknown"
        },
        {
         "name": "location_match",
         "rawType": "bool",
         "type": "boolean"
        }
       ],
       "ref": "5a54c221-6a05-48eb-9277-cfd53f2ada1c",
       "rows": [
        [
         "0",
         "100 West",
         null,
         null,
         "Pio Del Pilar, Makati",
         "False"
        ],
        [
         "1",
         "100 West Makati",
         "Makati, Metro Manila",
         "Pio Del Pilar, Makati, Metro Manila",
         null,
         "True"
        ],
        [
         "2",
         "1001 Parkway Residences",
         null,
         null,
         "Muntinlupa, Metro Manila",
         "False"
        ],
        [
         "3",
         "101 Newport BLVD",
         "Manila, Metro Manila",
         "Barangay 183, Pasay, Metro Manila",
         null,
         "False"
        ],
        [
         "4",
         "101 Xavierville",
         null,
         null,
         "Loyola Heights, Quezon City",
         "False"
        ],
        [
         "5",
         "110 Benavidez",
         "Makati, Metro Manila",
         "San Lorenzo, Makati, Metro Manila",
         null,
         "True"
        ],
        [
         "6",
         "115 Upper Mckinley",
         "Taguig, Metro Manila",
         "Forbes Park North, Makati, Metro Manila",
         "South Forbes, Makati",
         "False"
        ],
        [
         "7",
         "12 Luxury Flats",
         "San Juan, Metro Manila",
         "Little Baguio, San Juan, Metro Manila",
         null,
         "True"
        ],
        [
         "8",
         "1322 Golden Empire Tower",
         "Manila, Metro Manila",
         "Ermita, Manila, Metro Manila",
         "Ermita, Manila",
         "True"
        ],
        [
         "9",
         "150 Newport BLVD",
         "Pasay, Metro Manila",
         "Barangay 183, Pasay, Metro Manila",
         null,
         "True"
        ],
        [
         "10",
         "205 Santolan by Rockwell",
         null,
         null,
         "Valencia, Quezon City",
         "False"
        ],
        [
         "11",
         "2Torre Lorenzo",
         null,
         null,
         "Malate, Manila",
         "False"
        ],
        [
         "12",
         "329 Armstrong",
         "Parañaque, Metro Manila",
         "Barangay 76, Pasay, Metro Manila",
         null,
         "False"
        ],
        [
         "13",
         "3Torre Lorenzo",
         "Manila, Metro Manila",
         "Malate, Manila, Metro Manila",
         "Malate, Manila",
         "True"
        ],
        [
         "14",
         "53 Benitez",
         null,
         null,
         "Cubao, Quezon City",
         "False"
        ],
        [
         "15",
         "53 Benitez",
         null,
         null,
         "New Manila, Quezon City",
         "False"
        ],
        [
         "16",
         "53 Benitez",
         null,
         null,
         "Mariana, Quezon City",
         "False"
        ],
        [
         "17",
         "53 Benitez",
         null,
         null,
         "Horseshoe, Quezon City",
         "False"
        ],
        [
         "18",
         "53 Benitez",
         null,
         null,
         "Kaunlaran, Quezon City",
         "False"
        ],
        [
         "19",
         "55 Kalayaan Suites",
         null,
         null,
         "Quezon Avenue, Quezon City",
         "False"
        ],
        [
         "20",
         "8 ADRIATICO",
         "Manila, Metro Manila",
         "Malate, Manila, Metro Manila",
         "Malate, Manila",
         "True"
        ],
        [
         "21",
         "8 ADRIATICO",
         "Manila, Metro Manila",
         "Malate, Manila, Metro Manila",
         "Ermita, Manila",
         "True"
        ],
        [
         "22",
         "8 Benitez Suites",
         null,
         null,
         "Horseshoe, Quezon City",
         "False"
        ],
        [
         "23",
         "8 Benitez Suites",
         null,
         null,
         "Kaunlaran, Quezon City",
         "False"
        ],
        [
         "24",
         "8 Forbestown Centre",
         "Taguig, Metro Manila",
         "BGC, Taguig, Metro Manila",
         null,
         "True"
        ],
        [
         "25",
         "8 Forbestown Road",
         null,
         null,
         "Fort Bonifacio, Taguig",
         "False"
        ],
        [
         "26",
         "8 Wack Wack Road",
         null,
         null,
         "Wack-Wack Greenhills, Mandaluyong",
         "False"
        ],
        [
         "27",
         "81 Newport BLVD",
         "Pasay, Metro Manila",
         "Barangay 183, Pasay, Metro Manila",
         "Newport City, Pasay",
         "True"
        ],
        [
         "28",
         "81 Newport Boulevard",
         null,
         null,
         "Newport City, Pasay",
         "False"
        ],
        [
         "29",
         "81 Xavier Residences",
         null,
         null,
         "Greenhills, San Juan",
         "False"
        ],
        [
         "30",
         "878 España",
         null,
         null,
         "Sampaloc, Manila",
         "False"
        ],
        [
         "31",
         "ADB Avenue Tower",
         "Pasig, Metro Manila",
         "Bagong Ilog, Pasig, Metro Manila",
         null,
         "True"
        ],
        [
         "32",
         "ADRIATICO RESIDENCES",
         "Manila, Metro Manila",
         "Quiapo, Manila, Metro Manila",
         null,
         "True"
        ],
        [
         "33",
         "ALPHA SALCEDO",
         "Makati, Metro Manila",
         "Bel-Air, Makati, Metro Manila",
         "Bel-Air, Makati",
         "True"
        ],
        [
         "34",
         "AMA TOWER RESIDENCES",
         "Mandaluyong, Metro Manila",
         "Wack-Wack Greenhills, Mandaluyong, Metro Manila",
         null,
         "True"
        ],
        [
         "35",
         "AMAIA SKIES AVENIDA",
         "Manila, Metro Manila",
         "Quiapo, Manila, Metro Manila",
         "Santa Cruz, Manila",
         "True"
        ],
        [
         "36",
         "AMAIA STEPS SUCAT",
         "Parañaque, Metro Manila",
         "Barangay 76, Pasay, Metro Manila",
         "Baclaran, Parañaque",
         "False"
        ],
        [
         "37",
         "AMAIA STEPS SUCAT",
         "Parañaque, Metro Manila",
         "Barangay 76, Pasay, Metro Manila",
         "San Antonio, Parañaque",
         "False"
        ],
        [
         "38",
         "ANUVA CONDO",
         "Muntinlupa, Metro Manila",
         "Alabang, Muntinlupa, Metro Manila",
         null,
         "True"
        ],
        [
         "39",
         "ASIA Enclaves Alabang",
         "Muntinlupa, Metro Manila",
         "Alabang, Muntinlupa, Metro Manila",
         "Alabang, Muntinlupa",
         "True"
        ],
        [
         "40",
         "AURORA GARDENS",
         "Mandaluyong, Metro Manila",
         "Addition Hills, Mandaluyong, Metro Manila",
         null,
         "True"
        ],
        [
         "41",
         "Acacia Escalades",
         "Pasig, Metro Manila",
         "Manggahan, Pasig, Metro Manila",
         null,
         "True"
        ],
        [
         "42",
         "Acacia Escalades",
         "Pasig, Metro Manila",
         "Manggahan, Pasig, Metro Manila",
         null,
         "True"
        ],
        [
         "43",
         "Acacia Escalades – Building B",
         "Pasig, Metro Manila",
         "Manggahan, Pasig, Metro Manila",
         null,
         "True"
        ],
        [
         "44",
         "Acqua Living Stone",
         "Mandaluyong, Metro Manila",
         "Hulo, Mandaluyong, Metro Manila",
         null,
         "True"
        ],
        [
         "45",
         "Acqua Private Residences",
         "Mandaluyong, Metro Manila",
         "Hulo, Mandaluyong, Metro Manila",
         "Hulo, Mandaluyong",
         "True"
        ],
        [
         "46",
         "Acqua Private Residences",
         "Mandaluyong, Metro Manila",
         "Hulo, Mandaluyong, Metro Manila",
         "Mandaluyong, Metro Manila",
         "True"
        ],
        [
         "47",
         "Acqua Private Residences",
         "Mandaluyong, Metro Manila",
         "Hulo, Mandaluyong, Metro Manila",
         "Hagdang Bato Libis, Mandaluyong",
         "True"
        ],
        [
         "48",
         "Activa Flex",
         "Quezon City, Metro Manila",
         "E. Rodriguez, Quezon City, Metro Manila",
         null,
         "True"
        ],
        [
         "49",
         "Admiral Baysuites",
         null,
         null,
         "Malate, Manila",
         "False"
        ]
       ],
       "shape": {
        "columns": 5,
        "rows": 1292
       }
      },
      "text/html": [
       "<div>\n",
       "<style scoped>\n",
       "    .dataframe tbody tr th:only-of-type {\n",
       "        vertical-align: middle;\n",
       "    }\n",
       "\n",
       "    .dataframe tbody tr th {\n",
       "        vertical-align: top;\n",
       "    }\n",
       "\n",
       "    .dataframe thead th {\n",
       "        text-align: right;\n",
       "    }\n",
       "</style>\n",
       "<table border=\"1\" class=\"dataframe\">\n",
       "  <thead>\n",
       "    <tr style=\"text-align: right;\">\n",
       "      <th></th>\n",
       "      <th>project_name</th>\n",
       "      <th>location_x</th>\n",
       "      <th>location_map</th>\n",
       "      <th>location_y</th>\n",
       "      <th>location_match</th>\n",
       "    </tr>\n",
       "  </thead>\n",
       "  <tbody>\n",
       "    <tr>\n",
       "      <th>0</th>\n",
       "      <td>100 West</td>\n",
       "      <td>NaN</td>\n",
       "      <td>NaN</td>\n",
       "      <td>Pio Del Pilar, Makati</td>\n",
       "      <td>False</td>\n",
       "    </tr>\n",
       "    <tr>\n",
       "      <th>1</th>\n",
       "      <td>100 West Makati</td>\n",
       "      <td>Makati, Metro Manila</td>\n",
       "      <td>Pio Del Pilar, Makati, Metro Manila</td>\n",
       "      <td>NaN</td>\n",
       "      <td>True</td>\n",
       "    </tr>\n",
       "    <tr>\n",
       "      <th>2</th>\n",
       "      <td>1001 Parkway Residences</td>\n",
       "      <td>NaN</td>\n",
       "      <td>NaN</td>\n",
       "      <td>Muntinlupa, Metro Manila</td>\n",
       "      <td>False</td>\n",
       "    </tr>\n",
       "    <tr>\n",
       "      <th>3</th>\n",
       "      <td>101 Newport BLVD</td>\n",
       "      <td>Manila, Metro Manila</td>\n",
       "      <td>Barangay 183, Pasay, Metro Manila</td>\n",
       "      <td>NaN</td>\n",
       "      <td>False</td>\n",
       "    </tr>\n",
       "    <tr>\n",
       "      <th>4</th>\n",
       "      <td>101 Xavierville</td>\n",
       "      <td>NaN</td>\n",
       "      <td>NaN</td>\n",
       "      <td>Loyola Heights, Quezon City</td>\n",
       "      <td>False</td>\n",
       "    </tr>\n",
       "    <tr>\n",
       "      <th>...</th>\n",
       "      <td>...</td>\n",
       "      <td>...</td>\n",
       "      <td>...</td>\n",
       "      <td>...</td>\n",
       "      <td>...</td>\n",
       "    </tr>\n",
       "    <tr>\n",
       "      <th>1287</th>\n",
       "      <td>dakotaresidences</td>\n",
       "      <td>Metro Manila</td>\n",
       "      <td>Tugatog, Malabon, Metro Manila</td>\n",
       "      <td>Tugatog, Malabon</td>\n",
       "      <td>True</td>\n",
       "    </tr>\n",
       "    <tr>\n",
       "      <th>1288</th>\n",
       "      <td>mckinley hill garden villas</td>\n",
       "      <td>Taguig, Metro Manila</td>\n",
       "      <td>Bagong Tanyag, Taguig, Metro Manila</td>\n",
       "      <td>NaN</td>\n",
       "      <td>True</td>\n",
       "    </tr>\n",
       "    <tr>\n",
       "      <th>1289</th>\n",
       "      <td>oriental gardens makati</td>\n",
       "      <td>Makati, Metro Manila</td>\n",
       "      <td>Bangkal, Makati, Metro Manila</td>\n",
       "      <td>NaN</td>\n",
       "      <td>True</td>\n",
       "    </tr>\n",
       "    <tr>\n",
       "      <th>1290</th>\n",
       "      <td>symfoni kamias</td>\n",
       "      <td>Quezon City, Metro Manila</td>\n",
       "      <td>Ramon Magsaysay, Quezon City, Metro Manila</td>\n",
       "      <td>East Kamias, Quezon City</td>\n",
       "      <td>True</td>\n",
       "    </tr>\n",
       "    <tr>\n",
       "      <th>1291</th>\n",
       "      <td>trump tower</td>\n",
       "      <td>Makati, Metro Manila</td>\n",
       "      <td>Metro Manila, Makati</td>\n",
       "      <td>NaN</td>\n",
       "      <td>False</td>\n",
       "    </tr>\n",
       "  </tbody>\n",
       "</table>\n",
       "<p>1292 rows × 5 columns</p>\n",
       "</div>"
      ],
      "text/plain": [
       "                     project_name                 location_x  \\\n",
       "0                        100 West                        NaN   \n",
       "1                 100 West Makati       Makati, Metro Manila   \n",
       "2         1001 Parkway Residences                        NaN   \n",
       "3                101 Newport BLVD       Manila, Metro Manila   \n",
       "4                 101 Xavierville                        NaN   \n",
       "...                           ...                        ...   \n",
       "1287             dakotaresidences               Metro Manila   \n",
       "1288  mckinley hill garden villas       Taguig, Metro Manila   \n",
       "1289      oriental gardens makati       Makati, Metro Manila   \n",
       "1290               symfoni kamias  Quezon City, Metro Manila   \n",
       "1291                  trump tower       Makati, Metro Manila   \n",
       "\n",
       "                                    location_map                   location_y  \\\n",
       "0                                            NaN        Pio Del Pilar, Makati   \n",
       "1            Pio Del Pilar, Makati, Metro Manila                          NaN   \n",
       "2                                            NaN     Muntinlupa, Metro Manila   \n",
       "3              Barangay 183, Pasay, Metro Manila                          NaN   \n",
       "4                                            NaN  Loyola Heights, Quezon City   \n",
       "...                                          ...                          ...   \n",
       "1287              Tugatog, Malabon, Metro Manila             Tugatog, Malabon   \n",
       "1288         Bagong Tanyag, Taguig, Metro Manila                          NaN   \n",
       "1289               Bangkal, Makati, Metro Manila                          NaN   \n",
       "1290  Ramon Magsaysay, Quezon City, Metro Manila     East Kamias, Quezon City   \n",
       "1291                        Metro Manila, Makati                          NaN   \n",
       "\n",
       "      location_match  \n",
       "0              False  \n",
       "1               True  \n",
       "2              False  \n",
       "3              False  \n",
       "4              False  \n",
       "...              ...  \n",
       "1287            True  \n",
       "1288            True  \n",
       "1289            True  \n",
       "1290            True  \n",
       "1291           False  \n",
       "\n",
       "[1292 rows x 5 columns]"
      ]
     },
     "execution_count": 48,
     "metadata": {},
     "output_type": "execute_result"
    }
   ],
   "source": [
    "# apply string cleaning and corrections\n",
    "df_merged['location_x'] = df_merged['location_x'].str.replace(r'\\s{2,}', ' ', regex=True).str.replace(' , ', ', ').str.strip()\n",
    "\n",
    "# check if the string in 'location_map' is not missing and contains the corresponding 'location_x' string, case-insensitive\n",
    "df_merged['location_x_match'] = df_merged.apply(lambda row: str(row['location_x']).lower() in str(row['location_map']).lower(), axis=1)\n",
    "df_merged['location_map_empty'] = df_merged['location_map'].notna()\n",
    "df_merged['location_match'] = df_merged['location_x_match'] & df_merged['location_map_empty']\n",
    "df_merged = df_merged.drop(columns=['location_x_match', 'location_map_empty'])\n",
    "\n",
    "df_merged"
   ]
  },
  {
   "cell_type": "code",
   "execution_count": 49,
   "id": "e5b31aff",
   "metadata": {},
   "outputs": [],
   "source": [
    "# Save the DataFrame to a CSV file\n",
    "df_merged.to_csv(\"data-properties-for-correction.csv\", index=False, encoding='utf-8-sig')"
   ]
  }
 ],
 "metadata": {
  "kernelspec": {
   "display_name": ".venv",
   "language": "python",
   "name": "python3"
  },
  "language_info": {
   "codemirror_mode": {
    "name": "ipython",
    "version": 3
   },
   "file_extension": ".py",
   "mimetype": "text/x-python",
   "name": "python",
   "nbconvert_exporter": "python",
   "pygments_lexer": "ipython3",
   "version": "3.13.7"
  }
 },
 "nbformat": 4,
 "nbformat_minor": 5
}
